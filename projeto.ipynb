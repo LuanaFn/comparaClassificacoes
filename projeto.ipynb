{
 "cells": [
  {
   "cell_type": "markdown",
   "metadata": {},
   "source": [
    "# Projeto de Inteligência artificial\n",
    "\n",
    "Compara diferentes métodos de classificação\n",
    "\n",
    "Métodos a comparar:\n",
    "\n",
    "- Árvores de decisão\n",
    "- SVM\n",
    "- Random Forest\n",
    "\n",
    "Projeto para a disciplina Inteligência Artificial, 2018 3º Quadrimestre UFABC.\n",
    "\n",
    "Integrantes do Grupo:\n",
    "- Luana Ferreira do Nascimento RA 11090115"
   ]
  },
  {
   "cell_type": "code",
   "execution_count": null,
   "metadata": {},
   "outputs": [],
   "source": []
  }
 ],
 "metadata": {
  "kernelspec": {
   "display_name": "Python 3",
   "language": "python",
   "name": "python3"
  },
  "language_info": {
   "codemirror_mode": {
    "name": "ipython",
    "version": 3
   },
   "file_extension": ".py",
   "mimetype": "text/x-python",
   "name": "python",
   "nbconvert_exporter": "python",
   "pygments_lexer": "ipython3",
   "version": "3.7.0"
  }
 },
 "nbformat": 4,
 "nbformat_minor": 2
}
