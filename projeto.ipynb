{
 "cells": [
  {
   "cell_type": "markdown",
   "metadata": {},
   "source": [
    "# Projeto de Inteligência artificial\n",
    "\n",
    "Compara diferentes métodos de classificação\n",
    "\n",
    "Métodos a comparar:\n",
    "\n",
    "- Árvores de decisão\n",
    "- SVM\n",
    "- Random Forest\n",
    "\n",
    "Projeto para a disciplina Inteligência Artificial, 2018 3º Quadrimestre UFABC.\n",
    "\n",
    "Integrantes do Grupo:\n",
    "- Luana Ferreira do Nascimento RA 11090115\n",
    "- Rodrigo Rominho Mayer        RA 11020716"
   ]
  },
  {
   "cell_type": "markdown",
   "metadata": {},
   "source": [
    "Os problemas que iremos tratar serão \"Heart Disease Data Set\" com os dados de Cleveland e \"Wine Quality Data Set\" com os dados de vinho vermelho."
   ]
  },
  {
   "cell_type": "markdown",
   "metadata": {},
   "source": [
    "##### Preparando o dataset"
   ]
  },
  {
   "cell_type": "code",
   "execution_count": 11,
   "metadata": {},
   "outputs": [],
   "source": [
    "# importa o pandas para \n",
    "import pandas as pd\n",
    "\n",
    "# importa o train test spplit\n",
    "from sklearn.model_selection import train_test_split\n",
    "\n",
    "# carrega os datasets\n",
    "coracao = pd.read_csv(\"data/processed.cleveland.csv\")\n",
    "vinho = pd.read_csv(\"data/winequality-red.csv\",sep=';')\n",
    "\n",
    "# ajeita as colunas\n",
    "coracao.columns  = [\"age\",\"sex\",\"cp\",\"trestbps\",\"chol\",\"fbs\",\"restecg\",\"thalach\",\"exang\",\"oldpeak\",\"slope\",\"ca\",\"thal\",\"num\"]\n",
    "\n",
    "# separa os dados e o target\n",
    "X_coracao = coracao.drop([\"num\"], axis=1)\n",
    "y_coracao = coracao[[\"num\"]]\n",
    "\n",
    "X_vinho = vinho.drop([\"quality\"], axis=1)\n",
    "y_vinho = vinho[[\"quality\"]]\n",
    "\n",
    "# separa os dados de treinamento e de teste\n",
    "X_train_coracao, X_test_coracao, y_train_coracao, y_test_coracao = train_test_split(X_coracao, y_coracao, test_size=0.2)\n",
    "X_train_vinho, X_test_vinho, y_train_vinho, y_test_vinho = train_test_split(X_vinho, y_vinho, test_size=0.2)"
   ]
  },
  {
   "cell_type": "markdown",
   "metadata": {},
   "source": [
    "##### Visualização dos dados - Heart Disease Data Set\n",
    "\n",
    "- **age**: Idade\n",
    "- **sex**: Sexo (1 = masculino, 2 = feminino)\n",
    "- **cp**: Tipo de dor no peito\n",
    "    1. Angina típica\n",
    "    2. Angina atípica\n",
    "    3. Dor não anginal\n",
    "    4. Sem sintomas\n",
    "- **trestbps**: Pressão sanguínea em repouso (mm de Hg)\n",
    "- **chol**: Colesterol no sangue (mg/dL)\n",
    "- **fbs**: Açúcar no sangue em jejum > 120 mg/dL (1 = verdadeiro)\n",
    "- **restecg**: Resultados eletrocardiograma\n",
    "    0. Normal\n",
    "    1. Anormalidade nas ondas ST-T\n",
    "    2. Provável ou definitiva hipertrofia ventricular (esquerda)\n",
    "- **thalach**: Máxima taxa de batimentos cardíacos (Batimentos/min)\n",
    "- **exang**: Angina induzida por exercício (1 = verdadeiro)\n",
    "- **oldpeak**: ST Depression induzida por exercício relativa ao descanso\n",
    "- **slope**: Taxa de crescimento do segmento ST em exercício de máximo esforço\n",
    "    1. Crescente\n",
    "    2. Constante\n",
    "    3. Decrescente\n",
    "- **ca**: Número de vias principais coloridas por fluoroscopia (0 - 3)\n",
    "- **thal**: 3 = normal; 6 = defeito permanente; 7 = defeito reversível\n",
    "- **num**: [Target] Diagnóstico de doença cardíaca (1 = Verdadeiro)"
   ]
  },
  {
   "cell_type": "code",
   "execution_count": 9,
   "metadata": {},
   "outputs": [
    {
     "name": "stdout",
     "output_type": "stream",
     "text": [
      "      age  sex   cp  trestbps   chol  fbs  restecg  thalach  exang  oldpeak  \\\n",
      "0    67.0  1.0  4.0     160.0  286.0  0.0      2.0    108.0    1.0      1.5   \n",
      "1    67.0  1.0  4.0     120.0  229.0  0.0      2.0    129.0    1.0      2.6   \n",
      "2    37.0  1.0  3.0     130.0  250.0  0.0      0.0    187.0    0.0      3.5   \n",
      "3    41.0  0.0  2.0     130.0  204.0  0.0      2.0    172.0    0.0      1.4   \n",
      "4    56.0  1.0  2.0     120.0  236.0  0.0      0.0    178.0    0.0      0.8   \n",
      "5    62.0  0.0  4.0     140.0  268.0  0.0      2.0    160.0    0.0      3.6   \n",
      "6    57.0  0.0  4.0     120.0  354.0  0.0      0.0    163.0    1.0      0.6   \n",
      "7    63.0  1.0  4.0     130.0  254.0  0.0      2.0    147.0    0.0      1.4   \n",
      "8    53.0  1.0  4.0     140.0  203.0  1.0      2.0    155.0    1.0      3.1   \n",
      "9    57.0  1.0  4.0     140.0  192.0  0.0      0.0    148.0    0.0      0.4   \n",
      "10   56.0  0.0  2.0     140.0  294.0  0.0      2.0    153.0    0.0      1.3   \n",
      "11   56.0  1.0  3.0     130.0  256.0  1.0      2.0    142.0    1.0      0.6   \n",
      "12   44.0  1.0  2.0     120.0  263.0  0.0      0.0    173.0    0.0      0.0   \n",
      "13   52.0  1.0  3.0     172.0  199.0  1.0      0.0    162.0    0.0      0.5   \n",
      "14   57.0  1.0  3.0     150.0  168.0  0.0      0.0    174.0    0.0      1.6   \n",
      "15   48.0  1.0  2.0     110.0  229.0  0.0      0.0    168.0    0.0      1.0   \n",
      "16   54.0  1.0  4.0     140.0  239.0  0.0      0.0    160.0    0.0      1.2   \n",
      "17   48.0  0.0  3.0     130.0  275.0  0.0      0.0    139.0    0.0      0.2   \n",
      "18   49.0  1.0  2.0     130.0  266.0  0.0      0.0    171.0    0.0      0.6   \n",
      "19   64.0  1.0  1.0     110.0  211.0  0.0      2.0    144.0    1.0      1.8   \n",
      "20   58.0  0.0  1.0     150.0  283.0  1.0      2.0    162.0    0.0      1.0   \n",
      "21   58.0  1.0  2.0     120.0  284.0  0.0      2.0    160.0    0.0      1.8   \n",
      "22   58.0  1.0  3.0     132.0  224.0  0.0      2.0    173.0    0.0      3.2   \n",
      "23   60.0  1.0  4.0     130.0  206.0  0.0      2.0    132.0    1.0      2.4   \n",
      "24   50.0  0.0  3.0     120.0  219.0  0.0      0.0    158.0    0.0      1.6   \n",
      "25   58.0  0.0  3.0     120.0  340.0  0.0      0.0    172.0    0.0      0.0   \n",
      "26   66.0  0.0  1.0     150.0  226.0  0.0      0.0    114.0    0.0      2.6   \n",
      "27   43.0  1.0  4.0     150.0  247.0  0.0      0.0    171.0    0.0      1.5   \n",
      "28   40.0  1.0  4.0     110.0  167.0  0.0      2.0    114.0    1.0      2.0   \n",
      "29   69.0  0.0  1.0     140.0  239.0  0.0      0.0    151.0    0.0      1.8   \n",
      "..    ...  ...  ...       ...    ...  ...      ...      ...    ...      ...   \n",
      "272  71.0  0.0  4.0     112.0  149.0  0.0      0.0    125.0    0.0      1.6   \n",
      "273  59.0  1.0  1.0     134.0  204.0  0.0      0.0    162.0    0.0      0.8   \n",
      "274  64.0  1.0  1.0     170.0  227.0  0.0      2.0    155.0    0.0      0.6   \n",
      "275  66.0  0.0  3.0     146.0  278.0  0.0      2.0    152.0    0.0      0.0   \n",
      "276  39.0  0.0  3.0     138.0  220.0  0.0      0.0    152.0    0.0      0.0   \n",
      "277  57.0  1.0  2.0     154.0  232.0  0.0      2.0    164.0    0.0      0.0   \n",
      "278  58.0  0.0  4.0     130.0  197.0  0.0      0.0    131.0    0.0      0.6   \n",
      "279  57.0  1.0  4.0     110.0  335.0  0.0      0.0    143.0    1.0      3.0   \n",
      "280  47.0  1.0  3.0     130.0  253.0  0.0      0.0    179.0    0.0      0.0   \n",
      "281  55.0  0.0  4.0     128.0  205.0  0.0      1.0    130.0    1.0      2.0   \n",
      "282  35.0  1.0  2.0     122.0  192.0  0.0      0.0    174.0    0.0      0.0   \n",
      "283  61.0  1.0  4.0     148.0  203.0  0.0      0.0    161.0    0.0      0.0   \n",
      "284  58.0  1.0  4.0     114.0  318.0  0.0      1.0    140.0    0.0      4.4   \n",
      "285  58.0  0.0  4.0     170.0  225.0  1.0      2.0    146.0    1.0      2.8   \n",
      "286  58.0  1.0  2.0     125.0  220.0  0.0      0.0    144.0    0.0      0.4   \n",
      "287  56.0  1.0  2.0     130.0  221.0  0.0      2.0    163.0    0.0      0.0   \n",
      "288  56.0  1.0  2.0     120.0  240.0  0.0      0.0    169.0    0.0      0.0   \n",
      "289  67.0  1.0  3.0     152.0  212.0  0.0      2.0    150.0    0.0      0.8   \n",
      "290  55.0  0.0  2.0     132.0  342.0  0.0      0.0    166.0    0.0      1.2   \n",
      "291  44.0  1.0  4.0     120.0  169.0  0.0      0.0    144.0    1.0      2.8   \n",
      "292  63.0  1.0  4.0     140.0  187.0  0.0      2.0    144.0    1.0      4.0   \n",
      "293  63.0  0.0  4.0     124.0  197.0  0.0      0.0    136.0    1.0      0.0   \n",
      "294  41.0  1.0  2.0     120.0  157.0  0.0      0.0    182.0    0.0      0.0   \n",
      "295  59.0  1.0  4.0     164.0  176.0  1.0      2.0     90.0    0.0      1.0   \n",
      "296  57.0  0.0  4.0     140.0  241.0  0.0      0.0    123.0    1.0      0.2   \n",
      "297  45.0  1.0  1.0     110.0  264.0  0.0      0.0    132.0    0.0      1.2   \n",
      "298  68.0  1.0  4.0     144.0  193.0  1.0      0.0    141.0    0.0      3.4   \n",
      "299  57.0  1.0  4.0     130.0  131.0  0.0      0.0    115.0    1.0      1.2   \n",
      "300  57.0  0.0  2.0     130.0  236.0  0.0      2.0    174.0    0.0      0.0   \n",
      "301  38.0  1.0  3.0     138.0  175.0  0.0      0.0    173.0    0.0      0.0   \n",
      "\n",
      "     slope   ca thal  num  \n",
      "0      2.0  3.0  3.0    2  \n",
      "1      2.0  2.0  7.0    1  \n",
      "2      3.0  0.0  3.0    0  \n",
      "3      1.0  0.0  3.0    0  \n",
      "4      1.0  0.0  3.0    0  \n",
      "5      3.0  2.0  3.0    3  \n",
      "6      1.0  0.0  3.0    0  \n",
      "7      2.0  1.0  7.0    2  \n",
      "8      3.0  0.0  7.0    1  \n",
      "9      2.0  0.0  6.0    0  \n",
      "10     2.0  0.0  3.0    0  \n",
      "11     2.0  1.0  6.0    2  \n",
      "12     1.0  0.0  7.0    0  \n",
      "13     1.0  0.0  7.0    0  \n",
      "14     1.0  0.0  3.0    0  \n",
      "15     3.0  0.0  7.0    1  \n",
      "16     1.0  0.0  3.0    0  \n",
      "17     1.0  0.0  3.0    0  \n",
      "18     1.0  0.0  3.0    0  \n",
      "19     2.0  0.0  3.0    0  \n",
      "20     1.0  0.0  3.0    0  \n",
      "21     2.0  0.0  3.0    1  \n",
      "22     1.0  2.0  7.0    3  \n",
      "23     2.0  2.0  7.0    4  \n",
      "24     2.0  0.0  3.0    0  \n",
      "25     1.0  0.0  3.0    0  \n",
      "26     3.0  0.0  3.0    0  \n",
      "27     1.0  0.0  3.0    0  \n",
      "28     2.0  0.0  7.0    3  \n",
      "29     1.0  2.0  3.0    0  \n",
      "..     ...  ...  ...  ...  \n",
      "272    2.0  0.0  3.0    0  \n",
      "273    1.0  2.0  3.0    1  \n",
      "274    2.0  0.0  7.0    0  \n",
      "275    2.0  1.0  3.0    0  \n",
      "276    2.0  0.0  3.0    0  \n",
      "277    1.0  1.0  3.0    1  \n",
      "278    2.0  0.0  3.0    0  \n",
      "279    2.0  1.0  7.0    2  \n",
      "280    1.0  0.0  3.0    0  \n",
      "281    2.0  1.0  7.0    3  \n",
      "282    1.0  0.0  3.0    0  \n",
      "283    1.0  1.0  7.0    2  \n",
      "284    3.0  3.0  6.0    4  \n",
      "285    2.0  2.0  6.0    2  \n",
      "286    2.0    ?  7.0    0  \n",
      "287    1.0  0.0  7.0    0  \n",
      "288    3.0  0.0  3.0    0  \n",
      "289    2.0  0.0  7.0    1  \n",
      "290    1.0  0.0  3.0    0  \n",
      "291    3.0  0.0  6.0    2  \n",
      "292    1.0  2.0  7.0    2  \n",
      "293    2.0  0.0  3.0    1  \n",
      "294    1.0  0.0  3.0    0  \n",
      "295    2.0  2.0  6.0    3  \n",
      "296    2.0  0.0  7.0    1  \n",
      "297    2.0  0.0  7.0    1  \n",
      "298    2.0  2.0  7.0    2  \n",
      "299    2.0  1.0  7.0    3  \n",
      "300    2.0  1.0  3.0    1  \n",
      "301    1.0    ?  3.0    0  \n",
      "\n",
      "[302 rows x 14 columns]\n"
     ]
    }
   ],
   "source": [
    "print(coracao)"
   ]
  },
  {
   "cell_type": "markdown",
   "metadata": {},
   "source": [
    "##### Treinando com árvores de decisão"
   ]
  },
  {
   "cell_type": "code",
   "execution_count": null,
   "metadata": {
    "scrolled": true
   },
   "outputs": [],
   "source": []
  },
  {
   "cell_type": "markdown",
   "metadata": {},
   "source": [
    "##### Treinando com SVM"
   ]
  },
  {
   "cell_type": "code",
   "execution_count": null,
   "metadata": {},
   "outputs": [],
   "source": []
  },
  {
   "cell_type": "markdown",
   "metadata": {},
   "source": [
    "##### Treinando com Random Forest"
   ]
  },
  {
   "cell_type": "code",
   "execution_count": null,
   "metadata": {},
   "outputs": [],
   "source": []
  },
  {
   "cell_type": "markdown",
   "metadata": {},
   "source": [
    "##### Resultados da árvore de decisão"
   ]
  },
  {
   "cell_type": "code",
   "execution_count": null,
   "metadata": {},
   "outputs": [],
   "source": []
  },
  {
   "cell_type": "markdown",
   "metadata": {},
   "source": [
    "##### Resultados do SVM"
   ]
  },
  {
   "cell_type": "code",
   "execution_count": null,
   "metadata": {},
   "outputs": [],
   "source": []
  },
  {
   "cell_type": "markdown",
   "metadata": {},
   "source": [
    "##### Resultados do Random Forest"
   ]
  },
  {
   "cell_type": "code",
   "execution_count": null,
   "metadata": {},
   "outputs": [],
   "source": []
  }
 ],
 "metadata": {
  "kernelspec": {
   "display_name": "Python 3",
   "language": "python",
   "name": "python3"
  },
  "language_info": {
   "codemirror_mode": {
    "name": "ipython",
    "version": 3
   },
   "file_extension": ".py",
   "mimetype": "text/x-python",
   "name": "python",
   "nbconvert_exporter": "python",
   "pygments_lexer": "ipython3",
   "version": "3.7.0"
  }
 },
 "nbformat": 4,
 "nbformat_minor": 2
}
