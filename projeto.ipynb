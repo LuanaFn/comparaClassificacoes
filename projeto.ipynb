{
 "cells": [
  {
   "cell_type": "markdown",
   "metadata": {},
   "source": [
    "# Projeto de Inteligência Artificial\n",
    "\n",
    "Compara diferentes métodos de classificação\n",
    "\n",
    "Métodos a comparar:\n",
    "\n",
    "- Árvores de decisão\n",
    "- SVM\n",
    "- Random Forest\n",
    "\n",
    "Projeto para a disciplina Inteligência Artificial, 2018 3º Quadrimestre UFABC.\n",
    "\n",
    "Integrantes do Grupo:\n",
    "- Luana Ferreira do Nascimento RA 11090115\n",
    "- Lucas Andrade Cioffi         RA 11024515\n",
    "- Rodrigo Rominho Mayer        RA 11020716"
   ]
  },
  {
   "cell_type": "markdown",
   "metadata": {},
   "source": [
    "Os problemas que iremos tratar serão \"Heart Disease Data Set\" com os dados de Cleveland e \"Wine Quality Data Set\" com os dados de vinho vermelho."
   ]
  },
  {
   "cell_type": "markdown",
   "metadata": {},
   "source": [
    "##### Preparando o dataset"
   ]
  },
  {
   "cell_type": "code",
   "execution_count": 1,
   "metadata": {},
   "outputs": [],
   "source": [
    "# importa o pandas \n",
    "import pandas as pd\n",
    "\n",
    "# importa o train test split\n",
    "from sklearn.model_selection import train_test_split\n",
    "\n",
    "# carrega os datasets\n",
    "# dataset de doença cardíaca (com diagnósticos de 0 a 4)\n",
    "# coracao = pd.read_csv(\"data/processed.cleveland.nonull.csv\")\n",
    "# dataset de doença cardíaca (com diagnósticos 0 ou 1)\n",
    "coracao = pd.read_csv(\"data/coracao_nonull_nomagnitude.csv\")\n",
    "vinho = pd.read_csv(\"data/winequality-red.csv\",sep=';')\n",
    "\n",
    "# ajeita as colunas\n",
    "coracao.columns  = [\"age\",\"sex\",\"cp\",\"trestbps\",\"chol\",\"fbs\",\"restecg\",\"thalach\",\"exang\",\"oldpeak\",\"slope\",\"ca\",\"thal\",\"num\"]\n",
    "\n",
    "# separa os dados e o target\n",
    "X_coracao = coracao.drop([\"num\"], axis=1)\n",
    "y_coracao = coracao[[\"num\"]]\n",
    "\n",
    "X_vinho = vinho.drop([\"quality\"], axis=1)\n",
    "y_vinho = vinho[[\"quality\"]]\n",
    "\n",
    "# separa os dados de treinamento e de teste\n",
    "X_train_coracao, X_test_coracao, y_train_coracao, y_test_coracao = train_test_split(X_coracao, y_coracao, test_size=0.2)\n",
    "X_train_vinho, X_test_vinho, y_train_vinho, y_test_vinho = train_test_split(X_vinho, y_vinho, test_size=0.2)"
   ]
  },
  {
   "cell_type": "markdown",
   "metadata": {},
   "source": [
    "##### Visualização dos dados - Heart Disease Data Set\n",
    "\n",
    "- **age**: Idade\n",
    "- **sex**: Sexo (1 = masculino, 0 = feminino)\n",
    "- **cp**: Tipo de dor no peito\n",
    "    1. Angina típica\n",
    "    2. Angina atípica\n",
    "    3. Dor não anginal\n",
    "    4. Sem sintomas\n",
    "- **trestbps**: Pressão sanguínea em repouso (mm de Hg)\n",
    "- **chol**: Colesterol no sangue (mg/dL)\n",
    "- **fbs**: Açúcar no sangue em jejum > 120 mg/dL (1 = verdadeiro)\n",
    "- **restecg**: Resultados eletrocardiograma\n",
    "    0. Normal\n",
    "    1. Anormalidade nas ondas ST-T\n",
    "    2. Provável ou definitiva hipertrofia ventricular (esquerda)\n",
    "- **thalach**: Máxima taxa de batimentos cardíacos (Batimentos/min)\n",
    "- **exang**: Angina induzida por exercício (1 = verdadeiro)\n",
    "- **oldpeak**: ST Depression induzida por exercício relativa ao descanso\n",
    "- **slope**: Taxa de crescimento do segmento ST em exercício de máximo esforço\n",
    "    1. Crescente\n",
    "    2. Constante\n",
    "    3. Decrescente\n",
    "- **ca**: Número de vias principais coloridas por fluoroscopia (0 - 3)\n",
    "- **thal**: 3 = normal; 6 = defeito permanente; 7 = defeito reversível\n",
    "- **num**: [Target] Diagnóstico de doença cardíaca (1 = Verdadeiro)\n",
    "\n",
    "\n",
    "Segundo a documentação do Heart Disease Data Set:\n",
    "\n",
    ">  The \"goal\" field refers to the presence of heart disease\n",
    "     in the patient.  It is integer valued from 0 (no presence) to 4.\n",
    "     Experiments with the Cleveland database have concentrated on simply\n",
    "     attempting to distinguish presence (values 1,2,3,4) from absence (value\n",
    "     0)\n",
    "     \n",
    "Portanto, o treinamento e as previsões foram realizados considerando qualquer valor superior a 0 como diagnóstico positivo."
   ]
  },
  {
   "cell_type": "code",
   "execution_count": 2,
   "metadata": {
    "scrolled": false
   },
   "outputs": [
    {
     "name": "stdout",
     "output_type": "stream",
     "text": [
      "      age  sex   cp  trestbps   chol  fbs  restecg  thalach  exang  oldpeak  \\\n",
      "0    67.0  1.0  4.0     160.0  286.0  0.0      2.0    108.0    1.0      1.5   \n",
      "1    67.0  1.0  4.0     120.0  229.0  0.0      2.0    129.0    1.0      2.6   \n",
      "2    37.0  1.0  3.0     130.0  250.0  0.0      0.0    187.0    0.0      3.5   \n",
      "3    41.0  0.0  2.0     130.0  204.0  0.0      2.0    172.0    0.0      1.4   \n",
      "4    56.0  1.0  2.0     120.0  236.0  0.0      0.0    178.0    0.0      0.8   \n",
      "5    62.0  0.0  4.0     140.0  268.0  0.0      2.0    160.0    0.0      3.6   \n",
      "6    57.0  0.0  4.0     120.0  354.0  0.0      0.0    163.0    1.0      0.6   \n",
      "7    63.0  1.0  4.0     130.0  254.0  0.0      2.0    147.0    0.0      1.4   \n",
      "8    53.0  1.0  4.0     140.0  203.0  1.0      2.0    155.0    1.0      3.1   \n",
      "9    57.0  1.0  4.0     140.0  192.0  0.0      0.0    148.0    0.0      0.4   \n",
      "10   56.0  0.0  2.0     140.0  294.0  0.0      2.0    153.0    0.0      1.3   \n",
      "11   56.0  1.0  3.0     130.0  256.0  1.0      2.0    142.0    1.0      0.6   \n",
      "12   44.0  1.0  2.0     120.0  263.0  0.0      0.0    173.0    0.0      0.0   \n",
      "13   52.0  1.0  3.0     172.0  199.0  1.0      0.0    162.0    0.0      0.5   \n",
      "14   57.0  1.0  3.0     150.0  168.0  0.0      0.0    174.0    0.0      1.6   \n",
      "15   48.0  1.0  2.0     110.0  229.0  0.0      0.0    168.0    0.0      1.0   \n",
      "16   54.0  1.0  4.0     140.0  239.0  0.0      0.0    160.0    0.0      1.2   \n",
      "17   48.0  0.0  3.0     130.0  275.0  0.0      0.0    139.0    0.0      0.2   \n",
      "18   49.0  1.0  2.0     130.0  266.0  0.0      0.0    171.0    0.0      0.6   \n",
      "19   64.0  1.0  1.0     110.0  211.0  0.0      2.0    144.0    1.0      1.8   \n",
      "20   58.0  0.0  1.0     150.0  283.0  1.0      2.0    162.0    0.0      1.0   \n",
      "21   58.0  1.0  2.0     120.0  284.0  0.0      2.0    160.0    0.0      1.8   \n",
      "22   58.0  1.0  3.0     132.0  224.0  0.0      2.0    173.0    0.0      3.2   \n",
      "23   60.0  1.0  4.0     130.0  206.0  0.0      2.0    132.0    1.0      2.4   \n",
      "24   50.0  0.0  3.0     120.0  219.0  0.0      0.0    158.0    0.0      1.6   \n",
      "25   58.0  0.0  3.0     120.0  340.0  0.0      0.0    172.0    0.0      0.0   \n",
      "26   66.0  0.0  1.0     150.0  226.0  0.0      0.0    114.0    0.0      2.6   \n",
      "27   43.0  1.0  4.0     150.0  247.0  0.0      0.0    171.0    0.0      1.5   \n",
      "28   40.0  1.0  4.0     110.0  167.0  0.0      2.0    114.0    1.0      2.0   \n",
      "29   69.0  0.0  1.0     140.0  239.0  0.0      0.0    151.0    0.0      1.8   \n",
      "..    ...  ...  ...       ...    ...  ...      ...      ...    ...      ...   \n",
      "266  66.0  1.0  4.0     160.0  228.0  0.0      2.0    138.0    0.0      2.3   \n",
      "267  46.0  1.0  4.0     140.0  311.0  0.0      0.0    120.0    1.0      1.8   \n",
      "268  71.0  0.0  4.0     112.0  149.0  0.0      0.0    125.0    0.0      1.6   \n",
      "269  59.0  1.0  1.0     134.0  204.0  0.0      0.0    162.0    0.0      0.8   \n",
      "270  64.0  1.0  1.0     170.0  227.0  0.0      2.0    155.0    0.0      0.6   \n",
      "271  66.0  0.0  3.0     146.0  278.0  0.0      2.0    152.0    0.0      0.0   \n",
      "272  39.0  0.0  3.0     138.0  220.0  0.0      0.0    152.0    0.0      0.0   \n",
      "273  57.0  1.0  2.0     154.0  232.0  0.0      2.0    164.0    0.0      0.0   \n",
      "274  58.0  0.0  4.0     130.0  197.0  0.0      0.0    131.0    0.0      0.6   \n",
      "275  57.0  1.0  4.0     110.0  335.0  0.0      0.0    143.0    1.0      3.0   \n",
      "276  47.0  1.0  3.0     130.0  253.0  0.0      0.0    179.0    0.0      0.0   \n",
      "277  55.0  0.0  4.0     128.0  205.0  0.0      1.0    130.0    1.0      2.0   \n",
      "278  35.0  1.0  2.0     122.0  192.0  0.0      0.0    174.0    0.0      0.0   \n",
      "279  61.0  1.0  4.0     148.0  203.0  0.0      0.0    161.0    0.0      0.0   \n",
      "280  58.0  1.0  4.0     114.0  318.0  0.0      1.0    140.0    0.0      4.4   \n",
      "281  58.0  0.0  4.0     170.0  225.0  1.0      2.0    146.0    1.0      2.8   \n",
      "282  56.0  1.0  2.0     130.0  221.0  0.0      2.0    163.0    0.0      0.0   \n",
      "283  56.0  1.0  2.0     120.0  240.0  0.0      0.0    169.0    0.0      0.0   \n",
      "284  67.0  1.0  3.0     152.0  212.0  0.0      2.0    150.0    0.0      0.8   \n",
      "285  55.0  0.0  2.0     132.0  342.0  0.0      0.0    166.0    0.0      1.2   \n",
      "286  44.0  1.0  4.0     120.0  169.0  0.0      0.0    144.0    1.0      2.8   \n",
      "287  63.0  1.0  4.0     140.0  187.0  0.0      2.0    144.0    1.0      4.0   \n",
      "288  63.0  0.0  4.0     124.0  197.0  0.0      0.0    136.0    1.0      0.0   \n",
      "289  41.0  1.0  2.0     120.0  157.0  0.0      0.0    182.0    0.0      0.0   \n",
      "290  59.0  1.0  4.0     164.0  176.0  1.0      2.0     90.0    0.0      1.0   \n",
      "291  57.0  0.0  4.0     140.0  241.0  0.0      0.0    123.0    1.0      0.2   \n",
      "292  45.0  1.0  1.0     110.0  264.0  0.0      0.0    132.0    0.0      1.2   \n",
      "293  68.0  1.0  4.0     144.0  193.0  1.0      0.0    141.0    0.0      3.4   \n",
      "294  57.0  1.0  4.0     130.0  131.0  0.0      0.0    115.0    1.0      1.2   \n",
      "295  57.0  0.0  2.0     130.0  236.0  0.0      2.0    174.0    0.0      0.0   \n",
      "\n",
      "     slope   ca  thal  num  \n",
      "0      2.0  3.0   3.0    1  \n",
      "1      2.0  2.0   7.0    1  \n",
      "2      3.0  0.0   3.0    0  \n",
      "3      1.0  0.0   3.0    0  \n",
      "4      1.0  0.0   3.0    0  \n",
      "5      3.0  2.0   3.0    1  \n",
      "6      1.0  0.0   3.0    0  \n",
      "7      2.0  1.0   7.0    1  \n",
      "8      3.0  0.0   7.0    1  \n",
      "9      2.0  0.0   6.0    0  \n",
      "10     2.0  0.0   3.0    0  \n",
      "11     2.0  1.0   6.0    1  \n",
      "12     1.0  0.0   7.0    0  \n",
      "13     1.0  0.0   7.0    0  \n",
      "14     1.0  0.0   3.0    0  \n",
      "15     3.0  0.0   7.0    1  \n",
      "16     1.0  0.0   3.0    0  \n",
      "17     1.0  0.0   3.0    0  \n",
      "18     1.0  0.0   3.0    0  \n",
      "19     2.0  0.0   3.0    0  \n",
      "20     1.0  0.0   3.0    0  \n",
      "21     2.0  0.0   3.0    1  \n",
      "22     1.0  2.0   7.0    1  \n",
      "23     2.0  2.0   7.0    1  \n",
      "24     2.0  0.0   3.0    0  \n",
      "25     1.0  0.0   3.0    0  \n",
      "26     3.0  0.0   3.0    0  \n",
      "27     1.0  0.0   3.0    0  \n",
      "28     2.0  0.0   7.0    1  \n",
      "29     1.0  2.0   3.0    0  \n",
      "..     ...  ...   ...  ...  \n",
      "266    1.0  0.0   6.0    0  \n",
      "267    2.0  2.0   7.0    1  \n",
      "268    2.0  0.0   3.0    0  \n",
      "269    1.0  2.0   3.0    1  \n",
      "270    2.0  0.0   7.0    0  \n",
      "271    2.0  1.0   3.0    0  \n",
      "272    2.0  0.0   3.0    0  \n",
      "273    1.0  1.0   3.0    1  \n",
      "274    2.0  0.0   3.0    0  \n",
      "275    2.0  1.0   7.0    1  \n",
      "276    1.0  0.0   3.0    0  \n",
      "277    2.0  1.0   7.0    1  \n",
      "278    1.0  0.0   3.0    0  \n",
      "279    1.0  1.0   7.0    1  \n",
      "280    3.0  3.0   6.0    1  \n",
      "281    2.0  2.0   6.0    1  \n",
      "282    1.0  0.0   7.0    0  \n",
      "283    3.0  0.0   3.0    0  \n",
      "284    2.0  0.0   7.0    1  \n",
      "285    1.0  0.0   3.0    0  \n",
      "286    3.0  0.0   6.0    1  \n",
      "287    1.0  2.0   7.0    1  \n",
      "288    2.0  0.0   3.0    1  \n",
      "289    1.0  0.0   3.0    0  \n",
      "290    2.0  2.0   6.0    1  \n",
      "291    2.0  0.0   7.0    1  \n",
      "292    2.0  0.0   7.0    1  \n",
      "293    2.0  2.0   7.0    1  \n",
      "294    2.0  1.0   7.0    1  \n",
      "295    2.0  1.0   3.0    1  \n",
      "\n",
      "[296 rows x 14 columns]\n"
     ]
    }
   ],
   "source": [
    "print(coracao)"
   ]
  },
  {
   "cell_type": "markdown",
   "metadata": {},
   "source": [
    "##### Visualização dos dados - Wine Quality Data Set"
   ]
  },
  {
   "cell_type": "code",
   "execution_count": 3,
   "metadata": {},
   "outputs": [
    {
     "name": "stdout",
     "output_type": "stream",
     "text": [
      "      fixed acidity  volatile acidity  citric acid  residual sugar  chlorides  \\\n",
      "0               7.4             0.700         0.00             1.9      0.076   \n",
      "1               7.8             0.880         0.00             2.6      0.098   \n",
      "2               7.8             0.760         0.04             2.3      0.092   \n",
      "3              11.2             0.280         0.56             1.9      0.075   \n",
      "4               7.4             0.700         0.00             1.9      0.076   \n",
      "5               7.4             0.660         0.00             1.8      0.075   \n",
      "6               7.9             0.600         0.06             1.6      0.069   \n",
      "7               7.3             0.650         0.00             1.2      0.065   \n",
      "8               7.8             0.580         0.02             2.0      0.073   \n",
      "9               7.5             0.500         0.36             6.1      0.071   \n",
      "10              6.7             0.580         0.08             1.8      0.097   \n",
      "11              7.5             0.500         0.36             6.1      0.071   \n",
      "12              5.6             0.615         0.00             1.6      0.089   \n",
      "13              7.8             0.610         0.29             1.6      0.114   \n",
      "14              8.9             0.620         0.18             3.8      0.176   \n",
      "15              8.9             0.620         0.19             3.9      0.170   \n",
      "16              8.5             0.280         0.56             1.8      0.092   \n",
      "17              8.1             0.560         0.28             1.7      0.368   \n",
      "18              7.4             0.590         0.08             4.4      0.086   \n",
      "19              7.9             0.320         0.51             1.8      0.341   \n",
      "20              8.9             0.220         0.48             1.8      0.077   \n",
      "21              7.6             0.390         0.31             2.3      0.082   \n",
      "22              7.9             0.430         0.21             1.6      0.106   \n",
      "23              8.5             0.490         0.11             2.3      0.084   \n",
      "24              6.9             0.400         0.14             2.4      0.085   \n",
      "25              6.3             0.390         0.16             1.4      0.080   \n",
      "26              7.6             0.410         0.24             1.8      0.080   \n",
      "27              7.9             0.430         0.21             1.6      0.106   \n",
      "28              7.1             0.710         0.00             1.9      0.080   \n",
      "29              7.8             0.645         0.00             2.0      0.082   \n",
      "...             ...               ...          ...             ...        ...   \n",
      "1569            6.2             0.510         0.14             1.9      0.056   \n",
      "1570            6.4             0.360         0.53             2.2      0.230   \n",
      "1571            6.4             0.380         0.14             2.2      0.038   \n",
      "1572            7.3             0.690         0.32             2.2      0.069   \n",
      "1573            6.0             0.580         0.20             2.4      0.075   \n",
      "1574            5.6             0.310         0.78            13.9      0.074   \n",
      "1575            7.5             0.520         0.40             2.2      0.060   \n",
      "1576            8.0             0.300         0.63             1.6      0.081   \n",
      "1577            6.2             0.700         0.15             5.1      0.076   \n",
      "1578            6.8             0.670         0.15             1.8      0.118   \n",
      "1579            6.2             0.560         0.09             1.7      0.053   \n",
      "1580            7.4             0.350         0.33             2.4      0.068   \n",
      "1581            6.2             0.560         0.09             1.7      0.053   \n",
      "1582            6.1             0.715         0.10             2.6      0.053   \n",
      "1583            6.2             0.460         0.29             2.1      0.074   \n",
      "1584            6.7             0.320         0.44             2.4      0.061   \n",
      "1585            7.2             0.390         0.44             2.6      0.066   \n",
      "1586            7.5             0.310         0.41             2.4      0.065   \n",
      "1587            5.8             0.610         0.11             1.8      0.066   \n",
      "1588            7.2             0.660         0.33             2.5      0.068   \n",
      "1589            6.6             0.725         0.20             7.8      0.073   \n",
      "1590            6.3             0.550         0.15             1.8      0.077   \n",
      "1591            5.4             0.740         0.09             1.7      0.089   \n",
      "1592            6.3             0.510         0.13             2.3      0.076   \n",
      "1593            6.8             0.620         0.08             1.9      0.068   \n",
      "1594            6.2             0.600         0.08             2.0      0.090   \n",
      "1595            5.9             0.550         0.10             2.2      0.062   \n",
      "1596            6.3             0.510         0.13             2.3      0.076   \n",
      "1597            5.9             0.645         0.12             2.0      0.075   \n",
      "1598            6.0             0.310         0.47             3.6      0.067   \n",
      "\n",
      "      free sulfur dioxide  total sulfur dioxide  density    pH  sulphates  \\\n",
      "0                    11.0                  34.0  0.99780  3.51       0.56   \n",
      "1                    25.0                  67.0  0.99680  3.20       0.68   \n",
      "2                    15.0                  54.0  0.99700  3.26       0.65   \n",
      "3                    17.0                  60.0  0.99800  3.16       0.58   \n",
      "4                    11.0                  34.0  0.99780  3.51       0.56   \n",
      "5                    13.0                  40.0  0.99780  3.51       0.56   \n",
      "6                    15.0                  59.0  0.99640  3.30       0.46   \n",
      "7                    15.0                  21.0  0.99460  3.39       0.47   \n",
      "8                     9.0                  18.0  0.99680  3.36       0.57   \n",
      "9                    17.0                 102.0  0.99780  3.35       0.80   \n",
      "10                   15.0                  65.0  0.99590  3.28       0.54   \n",
      "11                   17.0                 102.0  0.99780  3.35       0.80   \n",
      "12                   16.0                  59.0  0.99430  3.58       0.52   \n",
      "13                    9.0                  29.0  0.99740  3.26       1.56   \n",
      "14                   52.0                 145.0  0.99860  3.16       0.88   \n",
      "15                   51.0                 148.0  0.99860  3.17       0.93   \n",
      "16                   35.0                 103.0  0.99690  3.30       0.75   \n",
      "17                   16.0                  56.0  0.99680  3.11       1.28   \n",
      "18                    6.0                  29.0  0.99740  3.38       0.50   \n",
      "19                   17.0                  56.0  0.99690  3.04       1.08   \n",
      "20                   29.0                  60.0  0.99680  3.39       0.53   \n",
      "21                   23.0                  71.0  0.99820  3.52       0.65   \n",
      "22                   10.0                  37.0  0.99660  3.17       0.91   \n",
      "23                    9.0                  67.0  0.99680  3.17       0.53   \n",
      "24                   21.0                  40.0  0.99680  3.43       0.63   \n",
      "25                   11.0                  23.0  0.99550  3.34       0.56   \n",
      "26                    4.0                  11.0  0.99620  3.28       0.59   \n",
      "27                   10.0                  37.0  0.99660  3.17       0.91   \n",
      "28                   14.0                  35.0  0.99720  3.47       0.55   \n",
      "29                    8.0                  16.0  0.99640  3.38       0.59   \n",
      "...                   ...                   ...      ...   ...        ...   \n",
      "1569                 15.0                  34.0  0.99396  3.48       0.57   \n",
      "1570                 19.0                  35.0  0.99340  3.37       0.93   \n",
      "1571                 15.0                  25.0  0.99514  3.44       0.65   \n",
      "1572                 35.0                 104.0  0.99632  3.33       0.51   \n",
      "1573                 15.0                  50.0  0.99467  3.58       0.67   \n",
      "1574                 23.0                  92.0  0.99677  3.39       0.48   \n",
      "1575                 12.0                  20.0  0.99474  3.26       0.64   \n",
      "1576                 16.0                  29.0  0.99588  3.30       0.78   \n",
      "1577                 13.0                  27.0  0.99622  3.54       0.60   \n",
      "1578                 13.0                  20.0  0.99540  3.42       0.67   \n",
      "1579                 24.0                  32.0  0.99402  3.54       0.60   \n",
      "1580                  9.0                  26.0  0.99470  3.36       0.60   \n",
      "1581                 24.0                  32.0  0.99402  3.54       0.60   \n",
      "1582                 13.0                  27.0  0.99362  3.57       0.50   \n",
      "1583                 32.0                  98.0  0.99578  3.33       0.62   \n",
      "1584                 24.0                  34.0  0.99484  3.29       0.80   \n",
      "1585                 22.0                  48.0  0.99494  3.30       0.84   \n",
      "1586                 34.0                  60.0  0.99492  3.34       0.85   \n",
      "1587                 18.0                  28.0  0.99483  3.55       0.66   \n",
      "1588                 34.0                 102.0  0.99414  3.27       0.78   \n",
      "1589                 29.0                  79.0  0.99770  3.29       0.54   \n",
      "1590                 26.0                  35.0  0.99314  3.32       0.82   \n",
      "1591                 16.0                  26.0  0.99402  3.67       0.56   \n",
      "1592                 29.0                  40.0  0.99574  3.42       0.75   \n",
      "1593                 28.0                  38.0  0.99651  3.42       0.82   \n",
      "1594                 32.0                  44.0  0.99490  3.45       0.58   \n",
      "1595                 39.0                  51.0  0.99512  3.52       0.76   \n",
      "1596                 29.0                  40.0  0.99574  3.42       0.75   \n",
      "1597                 32.0                  44.0  0.99547  3.57       0.71   \n",
      "1598                 18.0                  42.0  0.99549  3.39       0.66   \n",
      "\n",
      "      alcohol  quality  \n",
      "0         9.4        5  \n",
      "1         9.8        5  \n",
      "2         9.8        5  \n",
      "3         9.8        6  \n",
      "4         9.4        5  \n",
      "5         9.4        5  \n",
      "6         9.4        5  \n",
      "7        10.0        7  \n",
      "8         9.5        7  \n",
      "9        10.5        5  \n",
      "10        9.2        5  \n",
      "11       10.5        5  \n",
      "12        9.9        5  \n",
      "13        9.1        5  \n",
      "14        9.2        5  \n",
      "15        9.2        5  \n",
      "16       10.5        7  \n",
      "17        9.3        5  \n",
      "18        9.0        4  \n",
      "19        9.2        6  \n",
      "20        9.4        6  \n",
      "21        9.7        5  \n",
      "22        9.5        5  \n",
      "23        9.4        5  \n",
      "24        9.7        6  \n",
      "25        9.3        5  \n",
      "26        9.5        5  \n",
      "27        9.5        5  \n",
      "28        9.4        5  \n",
      "29        9.8        6  \n",
      "...       ...      ...  \n",
      "1569     11.5        6  \n",
      "1570     12.4        6  \n",
      "1571     11.1        6  \n",
      "1572      9.5        5  \n",
      "1573     12.5        6  \n",
      "1574     10.5        6  \n",
      "1575     11.8        6  \n",
      "1576     10.8        6  \n",
      "1577     11.9        6  \n",
      "1578     11.3        6  \n",
      "1579     11.3        5  \n",
      "1580     11.9        6  \n",
      "1581     11.3        5  \n",
      "1582     11.9        5  \n",
      "1583      9.8        5  \n",
      "1584     11.6        7  \n",
      "1585     11.5        6  \n",
      "1586     11.4        6  \n",
      "1587     10.9        6  \n",
      "1588     12.8        6  \n",
      "1589      9.2        5  \n",
      "1590     11.6        6  \n",
      "1591     11.6        6  \n",
      "1592     11.0        6  \n",
      "1593      9.5        6  \n",
      "1594     10.5        5  \n",
      "1595     11.2        6  \n",
      "1596     11.0        6  \n",
      "1597     10.2        5  \n",
      "1598     11.0        6  \n",
      "\n",
      "[1599 rows x 12 columns]\n"
     ]
    }
   ],
   "source": [
    "print(vinho)"
   ]
  },
  {
   "cell_type": "markdown",
   "metadata": {},
   "source": [
    "## Treinamentos"
   ]
  },
  {
   "cell_type": "markdown",
   "metadata": {},
   "source": [
    "##### Treinando com Árvores de Decisão\n",
    "\n",
    "Referências para o algoritmo:\n",
    "- https://scikit-learn.org/stable/modules/tree.html\n",
    "- https://scikit-learn.org/stable/modules/generated/sklearn.tree.DecisionTreeClassifier.html"
   ]
  },
  {
   "cell_type": "code",
   "execution_count": 4,
   "metadata": {
    "scrolled": true
   },
   "outputs": [],
   "source": [
    "from sklearn import tree\n",
    "\n",
    "# Heart Disease\n",
    "coracaoTree = tree.DecisionTreeClassifier()\n",
    "coracaoTree = coracaoTree.fit(X_train_coracao, y_train_coracao)\n",
    "\n",
    "#Wine Quality\n",
    "wineTree = tree.DecisionTreeClassifier()\n",
    "wineTree = wineTree.fit(X_train_vinho, y_train_vinho)"
   ]
  },
  {
   "cell_type": "markdown",
   "metadata": {},
   "source": [
    "##### Treinando com SVM\n",
    "\n",
    "Referências para o algoritmo:\n",
    "\n",
    "- https://scikit-learn.org/stable/modules/svm.html"
   ]
  },
  {
   "cell_type": "code",
   "execution_count": 5,
   "metadata": {},
   "outputs": [
    {
     "name": "stderr",
     "output_type": "stream",
     "text": [
      "C:\\Users\\rodri\\Anaconda3\\lib\\site-packages\\sklearn\\utils\\validation.py:578: DataConversionWarning: A column-vector y was passed when a 1d array was expected. Please change the shape of y to (n_samples, ), for example using ravel().\n",
      "  y = column_or_1d(y, warn=True)\n"
     ]
    }
   ],
   "source": [
    "from sklearn import svm\n",
    "\n",
    "# Heart Disease\n",
    "coracaoSvm = svm.SVC()\n",
    "coracaoSvm = coracaoSvm.fit(X_train_coracao, y_train_coracao)\n",
    "\n",
    "#Wine Quality\n",
    "wineSvm = svm.SVC() \n",
    "wineSvm = wineSvm.fit(X_train_vinho, y_train_vinho)"
   ]
  },
  {
   "cell_type": "markdown",
   "metadata": {},
   "source": [
    "##### Treinando com Random Forest"
   ]
  },
  {
   "cell_type": "code",
   "execution_count": 6,
   "metadata": {
    "scrolled": true
   },
   "outputs": [
    {
     "name": "stderr",
     "output_type": "stream",
     "text": [
      "C:\\Users\\rodri\\Anaconda3\\lib\\site-packages\\sklearn\\ensemble\\weight_boosting.py:29: DeprecationWarning: numpy.core.umath_tests is an internal NumPy module and should not be imported. It will be removed in a future NumPy release.\n",
      "  from numpy.core.umath_tests import inner1d\n",
      "C:\\Users\\rodri\\Anaconda3\\lib\\site-packages\\ipykernel_launcher.py:6: DataConversionWarning: A column-vector y was passed when a 1d array was expected. Please change the shape of y to (n_samples,), for example using ravel().\n",
      "  \n",
      "C:\\Users\\rodri\\Anaconda3\\lib\\site-packages\\ipykernel_launcher.py:10: DataConversionWarning: A column-vector y was passed when a 1d array was expected. Please change the shape of y to (n_samples,), for example using ravel().\n",
      "  # Remove the CWD from sys.path while we load stuff.\n"
     ]
    },
    {
     "data": {
      "text/plain": [
       "RandomForestClassifier(bootstrap=True, class_weight=None, criterion='gini',\n",
       "            max_depth=None, max_features='auto', max_leaf_nodes=None,\n",
       "            min_impurity_decrease=0.0, min_impurity_split=None,\n",
       "            min_samples_leaf=1, min_samples_split=2,\n",
       "            min_weight_fraction_leaf=0.0, n_estimators=20, n_jobs=1,\n",
       "            oob_score=False, random_state=0, verbose=0, warm_start=False)"
      ]
     },
     "execution_count": 6,
     "metadata": {},
     "output_type": "execute_result"
    }
   ],
   "source": [
    "from sklearn.ensemble import RandomForestClassifier\n",
    "\n",
    "# Random Forest com 1000 árvores\n",
    "# Para Heart Disease\n",
    "rfCoracao = RandomForestClassifier(n_estimators = 20, random_state = 0)\n",
    "rfCoracao.fit(X_train_coracao, y_train_coracao);\n",
    "\n",
    "# Para Wine Quality\n",
    "rfVinho = RandomForestClassifier(n_estimators = 20, random_state = 0)\n",
    "rfVinho.fit(X_train_vinho, y_train_vinho)"
   ]
  },
  {
   "cell_type": "markdown",
   "metadata": {},
   "source": [
    "# Resultados"
   ]
  },
  {
   "cell_type": "markdown",
   "metadata": {},
   "source": [
    "##### Resultados da árvore de decisão - Heart Disease Data Set"
   ]
  },
  {
   "cell_type": "code",
   "execution_count": 7,
   "metadata": {},
   "outputs": [
    {
     "name": "stdout",
     "output_type": "stream",
     "text": [
      "Matriz de confusão:\n",
      "[[21 14]\n",
      " [ 6 19]]\n",
      "Acurácia:\n",
      "0.6666666666666666\n"
     ]
    }
   ],
   "source": [
    "from sklearn.metrics import confusion_matrix\n",
    "from sklearn.metrics import accuracy_score\n",
    "\n",
    "y_pred_tree_coracao = coracaoTree.predict(X_test_coracao)\n",
    "\n",
    "print(\"Matriz de confusão:\")\n",
    "print(confusion_matrix(y_test_coracao, y_pred_tree_coracao))\n",
    "\n",
    "print(\"Acurácia:\")\n",
    "print(accuracy_score(y_test_coracao, y_pred_tree_coracao))"
   ]
  },
  {
   "cell_type": "markdown",
   "metadata": {},
   "source": [
    "##### Resultados da árvore de decisão - Wine Quality Data Set"
   ]
  },
  {
   "cell_type": "code",
   "execution_count": 8,
   "metadata": {},
   "outputs": [
    {
     "name": "stdout",
     "output_type": "stream",
     "text": [
      "Matriz de confusão:\n",
      "[[ 0  1  0  1  1  0]\n",
      " [ 1  1  8  4  0  0]\n",
      " [ 0  2 95 25  6  2]\n",
      " [ 0  3 32 78 13  3]\n",
      " [ 0  1  3 16 21  2]\n",
      " [ 0  0  0  0  1  0]]\n",
      "Acurácia:\n",
      "0.609375\n"
     ]
    }
   ],
   "source": [
    "y_pred_tree_vinho = wineTree.predict(X_test_vinho)\n",
    "\n",
    "print(\"Matriz de confusão:\")\n",
    "print(confusion_matrix(y_test_vinho, y_pred_tree_vinho))\n",
    "\n",
    "print(\"Acurácia:\")\n",
    "print(accuracy_score(y_test_vinho, y_pred_tree_vinho))"
   ]
  },
  {
   "cell_type": "markdown",
   "metadata": {},
   "source": [
    "##### Resultados do SVM - Heart Disease Data set"
   ]
  },
  {
   "cell_type": "code",
   "execution_count": 9,
   "metadata": {},
   "outputs": [
    {
     "name": "stdout",
     "output_type": "stream",
     "text": [
      "Matriz de confusão:\n",
      "[[35  0]\n",
      " [23  2]]\n",
      "Acurácia:\n",
      "0.6166666666666667\n"
     ]
    }
   ],
   "source": [
    "y_pred_svm_coracao = coracaoSvm.predict(X_test_coracao)\n",
    "\n",
    "print(\"Matriz de confusão:\")\n",
    "print(confusion_matrix(y_test_coracao, y_pred_svm_coracao))\n",
    "\n",
    "print(\"Acurácia:\")\n",
    "print(accuracy_score(y_test_coracao, y_pred_svm_coracao))"
   ]
  },
  {
   "cell_type": "markdown",
   "metadata": {},
   "source": [
    "##### Resultados do SVM - Wine Quality Data Set"
   ]
  },
  {
   "cell_type": "code",
   "execution_count": 10,
   "metadata": {},
   "outputs": [
    {
     "name": "stdout",
     "output_type": "stream",
     "text": [
      "Matriz de confusão:\n",
      "[[ 0  0  2  1  0  0]\n",
      " [ 0  0  7  7  0  0]\n",
      " [ 0  0 97 32  1  0]\n",
      " [ 0  0 46 76  7  0]\n",
      " [ 0  0  8 27  8  0]\n",
      " [ 0  0  0  1  0  0]]\n",
      "Acurácia:\n",
      "0.565625\n"
     ]
    }
   ],
   "source": [
    "y_pred_svm_vinho = wineSvm.predict(X_test_vinho)\n",
    "\n",
    "print(\"Matriz de confusão:\")\n",
    "print(confusion_matrix(y_test_vinho, y_pred_svm_vinho))\n",
    "\n",
    "print(\"Acurácia:\")\n",
    "print(accuracy_score(y_test_vinho, y_pred_svm_vinho))"
   ]
  },
  {
   "cell_type": "markdown",
   "metadata": {},
   "source": [
    "##### Resultados do Random Forest - Heart Disease Data Set"
   ]
  },
  {
   "cell_type": "code",
   "execution_count": 11,
   "metadata": {},
   "outputs": [
    {
     "name": "stdout",
     "output_type": "stream",
     "text": [
      "Matriz de confusão:\n",
      "[[  0   1   1   1   0   0]\n",
      " [  0   0  10   4   0   0]\n",
      " [  0   0 102  27   1   0]\n",
      " [  0   0  33  91   5   0]\n",
      " [  0   0   2  25  16   0]\n",
      " [  0   0   0   1   0   0]]\n",
      "Acurácia:\n",
      "0.653125\n"
     ]
    }
   ],
   "source": [
    "y_pred_rf_vinho = rfVinho.predict(X_test_vinho)\n",
    "\n",
    "print(\"Matriz de confusão:\")\n",
    "print(confusion_matrix(y_test_vinho, y_pred_rf_vinho))\n",
    "\n",
    "print(\"Acurácia:\")\n",
    "print(accuracy_score(y_test_vinho, y_pred_rf_vinho))"
   ]
  },
  {
   "cell_type": "markdown",
   "metadata": {},
   "source": [
    "##### Resultados do Random Forest - Wine Quality Data Set"
   ]
  },
  {
   "cell_type": "code",
   "execution_count": 12,
   "metadata": {},
   "outputs": [
    {
     "name": "stdout",
     "output_type": "stream",
     "text": [
      "Matriz de confusão:\n",
      "[[  0   1   1   1   0   0]\n",
      " [  0   0  10   4   0   0]\n",
      " [  0   0 102  27   1   0]\n",
      " [  0   0  33  91   5   0]\n",
      " [  0   0   2  25  16   0]\n",
      " [  0   0   0   1   0   0]]\n",
      "Acurácia:\n",
      "0.653125\n"
     ]
    }
   ],
   "source": [
    "y_pred_rf_vinho = rfVinho.predict(X_test_vinho)\n",
    "\n",
    "print(\"Matriz de confusão:\")\n",
    "print(confusion_matrix(y_test_vinho, y_pred_rf_vinho))\n",
    "\n",
    "print(\"Acurácia:\")\n",
    "print(accuracy_score(y_test_vinho, y_pred_rf_vinho))"
   ]
  }
 ],
 "metadata": {
  "kernelspec": {
   "display_name": "Python 3",
   "language": "python",
   "name": "python3"
  },
  "language_info": {
   "codemirror_mode": {
    "name": "ipython",
    "version": 3
   },
   "file_extension": ".py",
   "mimetype": "text/x-python",
   "name": "python",
   "nbconvert_exporter": "python",
   "pygments_lexer": "ipython3",
   "version": "3.7.0"
  }
 },
 "nbformat": 4,
 "nbformat_minor": 2
}
