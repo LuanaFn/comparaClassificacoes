{
 "cells": [
  {
   "cell_type": "markdown",
   "metadata": {},
   "source": [
    "# Projeto de Inteligência artificial\n",
    "\n",
    "Compara diferentes métodos de classificação\n",
    "\n",
    "Métodos a comparar:\n",
    "\n",
    "- Árvores de decisão\n",
    "- SVM\n",
    "- Random Forest\n",
    "\n",
    "Projeto para a disciplina Inteligência Artificial, 2018 3º Quadrimestre UFABC.\n",
    "\n",
    "Integrantes do Grupo:\n",
    "- Luana Ferreira do Nascimento RA 11090115"
   ]
  },
  {
   "cell_type": "markdown",
   "metadata": {},
   "source": [
    "O problema de classificação que iremos tratar será o \"Optical recognition of handwritten digits dataset\", do Scikit-learn, que contém várias imagens de dígitos de 0 a 9 escritos á mão. Treinaremos modelos que reconheçam estes dígitos utilizando os 3 métodos citados anteriormente, depois compararemos os resultados."
   ]
  },
  {
   "cell_type": "markdown",
   "metadata": {},
   "source": [
    "##### Preparando o dataset"
   ]
  },
  {
   "cell_type": "code",
   "execution_count": 10,
   "metadata": {},
   "outputs": [],
   "source": [
    "# importa o dataset\n",
    "from sklearn.datasets import load_digits\n",
    "\n",
    "# importa o train test spplit\n",
    "from sklearn.model_selection import train_test_split\n",
    "\n",
    "# carrega os digitos\n",
    "digits = load_digits()\n",
    "\n",
    "# separa os dados e o target\n",
    "X = digits.data\n",
    "y = digits.target\n",
    "\n",
    "# separa os dados de treinamento e de teste\n",
    "X_train, X_test, y_train, y_test = train_test_split(X, y, test_size=0.2)"
   ]
  },
  {
   "cell_type": "markdown",
   "metadata": {},
   "source": [
    "##### Treinando com árvores de decisão"
   ]
  },
  {
   "cell_type": "code",
   "execution_count": null,
   "metadata": {},
   "outputs": [],
   "source": []
  },
  {
   "cell_type": "markdown",
   "metadata": {},
   "source": [
    "##### Treinando com SVM"
   ]
  },
  {
   "cell_type": "code",
   "execution_count": null,
   "metadata": {},
   "outputs": [],
   "source": []
  },
  {
   "cell_type": "markdown",
   "metadata": {},
   "source": [
    "##### Treinando com Random Forest"
   ]
  },
  {
   "cell_type": "code",
   "execution_count": null,
   "metadata": {},
   "outputs": [],
   "source": []
  },
  {
   "cell_type": "markdown",
   "metadata": {},
   "source": [
    "##### Resultados da árvore de decisão"
   ]
  },
  {
   "cell_type": "code",
   "execution_count": null,
   "metadata": {},
   "outputs": [],
   "source": []
  },
  {
   "cell_type": "markdown",
   "metadata": {},
   "source": [
    "##### Resultados do SVM"
   ]
  },
  {
   "cell_type": "code",
   "execution_count": null,
   "metadata": {},
   "outputs": [],
   "source": []
  },
  {
   "cell_type": "markdown",
   "metadata": {},
   "source": [
    "##### Resultados do Random Forest"
   ]
  },
  {
   "cell_type": "code",
   "execution_count": null,
   "metadata": {},
   "outputs": [],
   "source": []
  }
 ],
 "metadata": {
  "kernelspec": {
   "display_name": "Python 3",
   "language": "python",
   "name": "python3"
  },
  "language_info": {
   "codemirror_mode": {
    "name": "ipython",
    "version": 3
   },
   "file_extension": ".py",
   "mimetype": "text/x-python",
   "name": "python",
   "nbconvert_exporter": "python",
   "pygments_lexer": "ipython3",
   "version": "3.7.0"
  }
 },
 "nbformat": 4,
 "nbformat_minor": 2
}
