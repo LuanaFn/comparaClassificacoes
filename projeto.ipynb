{
 "cells": [
  {
   "cell_type": "markdown",
   "metadata": {},
   "source": [
    "# Projeto de Inteligência artificial\n",
    "\n",
    "Compara diferentes métodos de classificação\n",
    "\n",
    "Métodos a comparar:\n",
    "\n",
    "- Árvores de decisão\n",
    "- SVM\n",
    "- Random Forest\n",
    "\n",
    "Projeto para a disciplina Inteligência Artificial, 2018 3º Quadrimestre UFABC.\n",
    "\n",
    "Integrantes do Grupo:\n",
    "- Luana Ferreira do Nascimento RA 11090115\n",
    "- Rodrigo Rominho Mayer        RA 11020716"
   ]
  },
  {
   "cell_type": "markdown",
   "metadata": {},
   "source": [
    "Os problemas que iremos tratar serão \"Heart Disease Data Set\" com os dados de Cleveland e \"Wine Quality Data Set\" com os dados de vinho vermelho."
   ]
  },
  {
   "cell_type": "markdown",
   "metadata": {},
   "source": [
    "##### Preparando o dataset"
   ]
  },
  {
   "cell_type": "code",
   "execution_count": 36,
   "metadata": {},
   "outputs": [],
   "source": [
    "# importa o pandas para \n",
    "import pandas as pd\n",
    "\n",
    "# importa o train test spplit\n",
    "from sklearn.model_selection import train_test_split\n",
    "\n",
    "# carrega os datasets\n",
    "coracao = pd.read_csv(\"data/processed.cleveland.csv\")\n",
    "vinho = pd.read_csv(\"data/winequality-red.csv\",sep=';')\n",
    "\n",
    "# ajeita as colunas\n",
    "coracao.columns  = [\"age\",\"sex\",\"cp\",\"trestbps\",\"chol\",\"fbs\",\"restecg\",\"thalach\",\"exang\",\"oldpeak\",\"slope\",\"ca\",\"thal\",\"num\"]\n",
    "\n",
    "# separa os dados e o target\n",
    "X_coracao = coracao.drop([\"num\"], axis=1)\n",
    "y_coracao = coracao[[\"num\"]]\n",
    "\n",
    "X_vinho = vinho.drop([\"quality\"], axis=1)\n",
    "y_vinho = vinho[[\"quality\"]]\n",
    "\n",
    "# separa os dados de treinamento e de teste\n",
    "X_train_coracao, X_test_coracao, y_train_coracao, y_test_coracao = train_test_split(X_coracao, y_coracao, test_size=0.2)\n",
    "X_train_vinho, X_test_vinho, y_train_vinho, y_test_vinho = train_test_split(X_vinho, y_vinho, test_size=0.2)"
   ]
  },
  {
   "cell_type": "markdown",
   "metadata": {},
   "source": [
    "##### Treinando com árvores de decisão"
   ]
  },
  {
   "cell_type": "code",
   "execution_count": null,
   "metadata": {
    "scrolled": true
   },
   "outputs": [],
   "source": []
  },
  {
   "cell_type": "markdown",
   "metadata": {},
   "source": [
    "##### Treinando com SVM"
   ]
  },
  {
   "cell_type": "code",
   "execution_count": null,
   "metadata": {},
   "outputs": [],
   "source": []
  },
  {
   "cell_type": "markdown",
   "metadata": {},
   "source": [
    "##### Treinando com Random Forest"
   ]
  },
  {
   "cell_type": "code",
   "execution_count": null,
   "metadata": {},
   "outputs": [],
   "source": []
  },
  {
   "cell_type": "markdown",
   "metadata": {},
   "source": [
    "##### Resultados da árvore de decisão"
   ]
  },
  {
   "cell_type": "code",
   "execution_count": null,
   "metadata": {},
   "outputs": [],
   "source": []
  },
  {
   "cell_type": "markdown",
   "metadata": {},
   "source": [
    "##### Resultados do SVM"
   ]
  },
  {
   "cell_type": "code",
   "execution_count": null,
   "metadata": {},
   "outputs": [],
   "source": []
  },
  {
   "cell_type": "markdown",
   "metadata": {},
   "source": [
    "##### Resultados do Random Forest"
   ]
  },
  {
   "cell_type": "code",
   "execution_count": null,
   "metadata": {},
   "outputs": [],
   "source": []
  }
 ],
 "metadata": {
  "kernelspec": {
   "display_name": "Python 3",
   "language": "python",
   "name": "python3"
  },
  "language_info": {
   "codemirror_mode": {
    "name": "ipython",
    "version": 3
   },
   "file_extension": ".py",
   "mimetype": "text/x-python",
   "name": "python",
   "nbconvert_exporter": "python",
   "pygments_lexer": "ipython3",
   "version": "3.7.0"
  }
 },
 "nbformat": 4,
 "nbformat_minor": 2
}
